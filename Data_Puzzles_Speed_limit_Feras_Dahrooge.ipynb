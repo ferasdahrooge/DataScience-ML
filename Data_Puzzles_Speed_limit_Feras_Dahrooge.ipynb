{
  "nbformat": 4,
  "nbformat_minor": 0,
  "metadata": {
    "colab": {
      "provenance": []
    },
    "kernelspec": {
      "name": "python3",
      "display_name": "Python 3"
    },
    "language_info": {
      "name": "python"
    }
  },
  "cells": [
    {
      "cell_type": "markdown",
      "source": [
        "# Intro\n",
        "\n",
        "The dataset loaded below represents a random sample of cars speed on certain roads.\n",
        "\n",
        "Can you figure out what the speed limit is for each road?\n",
        "Write back the sum of all roads speeds limits back on the data-puzzles webpage!"
      ],
      "metadata": {
        "id": "V7VzFhVChVyv"
      }
    },
    {
      "cell_type": "markdown",
      "source": [
        "# Kickstart"
      ],
      "metadata": {
        "id": "rm2wLbJjhlXW"
      }
    },
    {
      "cell_type": "code",
      "execution_count": null,
      "metadata": {
        "id": "osw8w5T-hTuJ"
      },
      "outputs": [],
      "source": [
        "import pandas as pd\n",
        "import matplotlib.pyplot as plt\n",
        "import numpy as np\n",
        "speeds_df = pd.read_csv('https://raw.githubusercontent.com/hyperc54/data-puzzles-assets/master/visualisation/speeds_data.csv')"
      ]
    },
    {
      "cell_type": "code",
      "source": [
        "speeds_df"
      ],
      "metadata": {
        "colab": {
          "base_uri": "https://localhost:8080/",
          "height": 424
        },
        "id": "NkxjKHg3hwLE",
        "outputId": "4c9e36e4-c92e-45bd-d23e-f05939d58361"
      },
      "execution_count": null,
      "outputs": [
        {
          "output_type": "execute_result",
          "data": {
            "text/plain": [
              "         plate road  speed\n",
              "0     DN9166SU  R87   49.7\n",
              "1     CG4862ZS  R87   49.4\n",
              "2     DV4956AM  R87   49.9\n",
              "3     TL4125OA  R87   51.3\n",
              "4     LX3827BI  R87   48.1\n",
              "...        ...  ...    ...\n",
              "6145  UY9662ZM  R80   29.8\n",
              "6146  YN8896QS  R80   29.2\n",
              "6147  PZ5432NL  R80   29.5\n",
              "6148  ZR6902LA  R80   28.8\n",
              "6149  HJ8709CN  R80   30.0\n",
              "\n",
              "[6150 rows x 3 columns]"
            ],
            "text/html": [
              "\n",
              "  <div id=\"df-6bd1dc10-c042-45d2-be67-b8a734cf66ab\">\n",
              "    <div class=\"colab-df-container\">\n",
              "      <div>\n",
              "<style scoped>\n",
              "    .dataframe tbody tr th:only-of-type {\n",
              "        vertical-align: middle;\n",
              "    }\n",
              "\n",
              "    .dataframe tbody tr th {\n",
              "        vertical-align: top;\n",
              "    }\n",
              "\n",
              "    .dataframe thead th {\n",
              "        text-align: right;\n",
              "    }\n",
              "</style>\n",
              "<table border=\"1\" class=\"dataframe\">\n",
              "  <thead>\n",
              "    <tr style=\"text-align: right;\">\n",
              "      <th></th>\n",
              "      <th>plate</th>\n",
              "      <th>road</th>\n",
              "      <th>speed</th>\n",
              "    </tr>\n",
              "  </thead>\n",
              "  <tbody>\n",
              "    <tr>\n",
              "      <th>0</th>\n",
              "      <td>DN9166SU</td>\n",
              "      <td>R87</td>\n",
              "      <td>49.7</td>\n",
              "    </tr>\n",
              "    <tr>\n",
              "      <th>1</th>\n",
              "      <td>CG4862ZS</td>\n",
              "      <td>R87</td>\n",
              "      <td>49.4</td>\n",
              "    </tr>\n",
              "    <tr>\n",
              "      <th>2</th>\n",
              "      <td>DV4956AM</td>\n",
              "      <td>R87</td>\n",
              "      <td>49.9</td>\n",
              "    </tr>\n",
              "    <tr>\n",
              "      <th>3</th>\n",
              "      <td>TL4125OA</td>\n",
              "      <td>R87</td>\n",
              "      <td>51.3</td>\n",
              "    </tr>\n",
              "    <tr>\n",
              "      <th>4</th>\n",
              "      <td>LX3827BI</td>\n",
              "      <td>R87</td>\n",
              "      <td>48.1</td>\n",
              "    </tr>\n",
              "    <tr>\n",
              "      <th>...</th>\n",
              "      <td>...</td>\n",
              "      <td>...</td>\n",
              "      <td>...</td>\n",
              "    </tr>\n",
              "    <tr>\n",
              "      <th>6145</th>\n",
              "      <td>UY9662ZM</td>\n",
              "      <td>R80</td>\n",
              "      <td>29.8</td>\n",
              "    </tr>\n",
              "    <tr>\n",
              "      <th>6146</th>\n",
              "      <td>YN8896QS</td>\n",
              "      <td>R80</td>\n",
              "      <td>29.2</td>\n",
              "    </tr>\n",
              "    <tr>\n",
              "      <th>6147</th>\n",
              "      <td>PZ5432NL</td>\n",
              "      <td>R80</td>\n",
              "      <td>29.5</td>\n",
              "    </tr>\n",
              "    <tr>\n",
              "      <th>6148</th>\n",
              "      <td>ZR6902LA</td>\n",
              "      <td>R80</td>\n",
              "      <td>28.8</td>\n",
              "    </tr>\n",
              "    <tr>\n",
              "      <th>6149</th>\n",
              "      <td>HJ8709CN</td>\n",
              "      <td>R80</td>\n",
              "      <td>30.0</td>\n",
              "    </tr>\n",
              "  </tbody>\n",
              "</table>\n",
              "<p>6150 rows × 3 columns</p>\n",
              "</div>\n",
              "      <button class=\"colab-df-convert\" onclick=\"convertToInteractive('df-6bd1dc10-c042-45d2-be67-b8a734cf66ab')\"\n",
              "              title=\"Convert this dataframe to an interactive table.\"\n",
              "              style=\"display:none;\">\n",
              "        \n",
              "  <svg xmlns=\"http://www.w3.org/2000/svg\" height=\"24px\"viewBox=\"0 0 24 24\"\n",
              "       width=\"24px\">\n",
              "    <path d=\"M0 0h24v24H0V0z\" fill=\"none\"/>\n",
              "    <path d=\"M18.56 5.44l.94 2.06.94-2.06 2.06-.94-2.06-.94-.94-2.06-.94 2.06-2.06.94zm-11 1L8.5 8.5l.94-2.06 2.06-.94-2.06-.94L8.5 2.5l-.94 2.06-2.06.94zm10 10l.94 2.06.94-2.06 2.06-.94-2.06-.94-.94-2.06-.94 2.06-2.06.94z\"/><path d=\"M17.41 7.96l-1.37-1.37c-.4-.4-.92-.59-1.43-.59-.52 0-1.04.2-1.43.59L10.3 9.45l-7.72 7.72c-.78.78-.78 2.05 0 2.83L4 21.41c.39.39.9.59 1.41.59.51 0 1.02-.2 1.41-.59l7.78-7.78 2.81-2.81c.8-.78.8-2.07 0-2.86zM5.41 20L4 18.59l7.72-7.72 1.47 1.35L5.41 20z\"/>\n",
              "  </svg>\n",
              "      </button>\n",
              "      \n",
              "  <style>\n",
              "    .colab-df-container {\n",
              "      display:flex;\n",
              "      flex-wrap:wrap;\n",
              "      gap: 12px;\n",
              "    }\n",
              "\n",
              "    .colab-df-convert {\n",
              "      background-color: #E8F0FE;\n",
              "      border: none;\n",
              "      border-radius: 50%;\n",
              "      cursor: pointer;\n",
              "      display: none;\n",
              "      fill: #1967D2;\n",
              "      height: 32px;\n",
              "      padding: 0 0 0 0;\n",
              "      width: 32px;\n",
              "    }\n",
              "\n",
              "    .colab-df-convert:hover {\n",
              "      background-color: #E2EBFA;\n",
              "      box-shadow: 0px 1px 2px rgba(60, 64, 67, 0.3), 0px 1px 3px 1px rgba(60, 64, 67, 0.15);\n",
              "      fill: #174EA6;\n",
              "    }\n",
              "\n",
              "    [theme=dark] .colab-df-convert {\n",
              "      background-color: #3B4455;\n",
              "      fill: #D2E3FC;\n",
              "    }\n",
              "\n",
              "    [theme=dark] .colab-df-convert:hover {\n",
              "      background-color: #434B5C;\n",
              "      box-shadow: 0px 1px 3px 1px rgba(0, 0, 0, 0.15);\n",
              "      filter: drop-shadow(0px 1px 2px rgba(0, 0, 0, 0.3));\n",
              "      fill: #FFFFFF;\n",
              "    }\n",
              "  </style>\n",
              "\n",
              "      <script>\n",
              "        const buttonEl =\n",
              "          document.querySelector('#df-6bd1dc10-c042-45d2-be67-b8a734cf66ab button.colab-df-convert');\n",
              "        buttonEl.style.display =\n",
              "          google.colab.kernel.accessAllowed ? 'block' : 'none';\n",
              "\n",
              "        async function convertToInteractive(key) {\n",
              "          const element = document.querySelector('#df-6bd1dc10-c042-45d2-be67-b8a734cf66ab');\n",
              "          const dataTable =\n",
              "            await google.colab.kernel.invokeFunction('convertToInteractive',\n",
              "                                                     [key], {});\n",
              "          if (!dataTable) return;\n",
              "\n",
              "          const docLinkHtml = 'Like what you see? Visit the ' +\n",
              "            '<a target=\"_blank\" href=https://colab.research.google.com/notebooks/data_table.ipynb>data table notebook</a>'\n",
              "            + ' to learn more about interactive tables.';\n",
              "          element.innerHTML = '';\n",
              "          dataTable['output_type'] = 'display_data';\n",
              "          await google.colab.output.renderOutput(dataTable, element);\n",
              "          const docLink = document.createElement('div');\n",
              "          docLink.innerHTML = docLinkHtml;\n",
              "          element.appendChild(docLink);\n",
              "        }\n",
              "      </script>\n",
              "    </div>\n",
              "  </div>\n",
              "  "
            ]
          },
          "metadata": {},
          "execution_count": 53
        }
      ]
    },
    {
      "cell_type": "code",
      "source": [
        "def get_data_from_value_in_column(df, column , value):\n",
        "  df_result = df.loc[df[column] == value]\n",
        "  return df_result\n",
        "\n",
        "def percentile_95(x):\n",
        "  return np.percentile(x, q = 95)\n",
        "\n",
        "def percentile_90(x):\n",
        "  return np.percentile(x, q = 90)"
      ],
      "metadata": {
        "id": "6XDHBCvHBR-m"
      },
      "execution_count": null,
      "outputs": []
    },
    {
      "cell_type": "code",
      "source": [
        "# Your turn now! figure out the speed limit per road and add them up!\n",
        "speeds_df_r87 = get_data_from_value_in_column(speeds_df, 'road','R87')\n",
        "speeds_df_r48 = get_data_from_value_in_column(speeds_df, 'road','R48')\n",
        "speeds_df_r90 = get_data_from_value_in_column(speeds_df, 'road','R90')\n",
        "speeds_df_r17 = get_data_from_value_in_column(speeds_df, 'road','R17')\n",
        "speeds_df_r77 = get_data_from_value_in_column(speeds_df, 'road','R77')\n",
        "speeds_df_r80 = get_data_from_value_in_column(speeds_df, 'road','R80')"
      ],
      "metadata": {
        "id": "1mh7sFA1hxEH"
      },
      "execution_count": null,
      "outputs": []
    },
    {
      "cell_type": "code",
      "source": [
        "plt.hist(speeds_df_r87.speed, bins = 100,edgecolor= 'black')\n",
        "plt.show()"
      ],
      "metadata": {
        "id": "ZWL0AG04750u",
        "outputId": "8e1ddaf1-48ce-4b68-c4d4-569a0db4141d",
        "colab": {
          "base_uri": "https://localhost:8080/",
          "height": 430
        }
      },
      "execution_count": null,
      "outputs": [
        {
          "output_type": "display_data",
          "data": {
            "text/plain": [
              "<Figure size 640x480 with 1 Axes>"
            ],
            "image/png": "[encoded data removed]"
          },
          "metadata": {}
        }
      ]
    },
    {
      "cell_type": "code",
      "source": [
        "print(percentile_90(speeds_df_r87.speed))\n",
        "print(percentile_95(speeds_df_r87.speed))\n",
        "# R87 speed limit is 50\n",
        "limit_r87 = 50"
      ],
      "metadata": {
        "id": "FhIbCbIm_bFi",
        "outputId": "4c8f3b59-82d6-4be9-8235-1d6d23696eb6",
        "colab": {
          "base_uri": "https://localhost:8080/"
        }
      },
      "execution_count": null,
      "outputs": [
        {
          "output_type": "stream",
          "name": "stdout",
          "text": [
            "50.0\n",
            "50.5\n"
          ]
        }
      ]
    },
    {
      "cell_type": "code",
      "source": [
        "plt.hist(speeds_df_r90.speed, bins = 100,edgecolor= 'black')\n",
        "plt.show()"
      ],
      "metadata": {
        "id": "9hY5v8Jq9I_j",
        "outputId": "d53860fd-c05c-4594-b3ba-3514c3ef936f",
        "colab": {
          "base_uri": "https://localhost:8080/",
          "height": 430
        }
      },
      "execution_count": null,
      "outputs": [
        {
          "output_type": "display_data",
          "data": {
            "text/plain": [
              "<Figure size 640x480 with 1 Axes>"
            ],
            "image/png": "[encoded data removed]"
          },
          "metadata": {}
        }
      ]
    },
    {
      "cell_type": "code",
      "source": [
        "print(percentile_90(speeds_df_r90.speed))\n",
        "print(percentile_95(speeds_df_r90.speed))\n",
        "# R90 speed limit is 100\n",
        "limit_r90 = 100"
      ],
      "metadata": {
        "id": "gXfAAfksCSmh",
        "outputId": "6224abb9-4481-40e8-c528-e32bc3becd43",
        "colab": {
          "base_uri": "https://localhost:8080/"
        }
      },
      "execution_count": null,
      "outputs": [
        {
          "output_type": "stream",
          "name": "stdout",
          "text": [
            "99.9\n",
            "101.30499999999999\n"
          ]
        }
      ]
    },
    {
      "cell_type": "code",
      "source": [
        "plt.hist(speeds_df_r48.speed, bins = 100,edgecolor= 'black')\n",
        "plt.show()"
      ],
      "metadata": {
        "id": "luaXHqUD-fWy",
        "outputId": "4d38248b-75bd-489a-c421-77b4a86ca08a",
        "colab": {
          "base_uri": "https://localhost:8080/",
          "height": 430
        }
      },
      "execution_count": null,
      "outputs": [
        {
          "output_type": "display_data",
          "data": {
            "text/plain": [
              "<Figure size 640x480 with 1 Axes>"
            ],
            "image/png": "[encoded data removed]"
          },
          "metadata": {}
        }
      ]
    },
    {
      "cell_type": "code",
      "source": [
        "print(percentile_90(speeds_df_r48.speed))\n",
        "print(percentile_95(speeds_df_r48.speed))\n",
        "# R48 speed limit is 70\n",
        "limit_r48 = 70"
      ],
      "metadata": {
        "id": "1sH1eWOyC3Vs",
        "outputId": "2d437feb-20f7-4243-f421-1b356cd18728",
        "colab": {
          "base_uri": "https://localhost:8080/"
        }
      },
      "execution_count": null,
      "outputs": [
        {
          "output_type": "stream",
          "name": "stdout",
          "text": [
            "69.7\n",
            "70.0\n"
          ]
        }
      ]
    },
    {
      "cell_type": "code",
      "source": [
        "plt.hist(speeds_df_r80.speed, bins = 100,edgecolor= 'black')\n",
        "plt.show()"
      ],
      "metadata": {
        "id": "LCjC7JQM-m4V",
        "outputId": "854e53e5-0a1b-450f-fb7b-20de8f40909b",
        "colab": {
          "base_uri": "https://localhost:8080/",
          "height": 430
        }
      },
      "execution_count": null,
      "outputs": [
        {
          "output_type": "display_data",
          "data": {
            "text/plain": [
              "<Figure size 640x480 with 1 Axes>"
            ],
            "image/png": "[encoded data removed]"
          },
          "metadata": {}
        }
      ]
    },
    {
      "cell_type": "code",
      "source": [
        "print(percentile_90(speeds_df_r80.speed))\n",
        "print(percentile_95(speeds_df_r80.speed))\n",
        "# R80 speed limit is 30\n",
        "limit_r80 = 30"
      ],
      "metadata": {
        "id": "YgPf1_i6DADP",
        "outputId": "6b5b4717-5fac-43c8-fabf-27a6661d540d",
        "colab": {
          "base_uri": "https://localhost:8080/"
        }
      },
      "execution_count": null,
      "outputs": [
        {
          "output_type": "stream",
          "name": "stdout",
          "text": [
            "30.1\n",
            "31.5\n"
          ]
        }
      ]
    },
    {
      "cell_type": "code",
      "source": [
        "plt.hist(speeds_df_r77.speed, bins = 100,edgecolor= 'black')\n",
        "plt.show()"
      ],
      "metadata": {
        "id": "hCHF7O9K-usr",
        "outputId": "70790e38-ffca-4166-a36e-6d565e78dd84",
        "colab": {
          "base_uri": "https://localhost:8080/",
          "height": 430
        }
      },
      "execution_count": null,
      "outputs": [
        {
          "output_type": "display_data",
          "data": {
            "text/plain": [
              "<Figure size 640x480 with 1 Axes>"
            ],
            "image/png": "[encoded data removed]"
          },
          "metadata": {}
        }
      ]
    },
    {
      "cell_type": "code",
      "source": [
        "print(percentile_90(speeds_df_r77.speed))\n",
        "print(percentile_95(speeds_df_r77.speed))\n",
        "# R77 speed limit is 130\n",
        "limit_r77 = 130"
      ],
      "metadata": {
        "id": "pck9gSPbDEh6",
        "outputId": "90bb4c12-71ff-4319-f895-21dd43684754",
        "colab": {
          "base_uri": "https://localhost:8080/"
        }
      },
      "execution_count": null,
      "outputs": [
        {
          "output_type": "stream",
          "name": "stdout",
          "text": [
            "129.2\n",
            "130.4\n"
          ]
        }
      ]
    },
    {
      "cell_type": "code",
      "source": [
        "plt.hist(speeds_df_r17.speed, bins = 100 ,edgecolor= 'black')\n",
        "plt.show()"
      ],
      "metadata": {
        "id": "PiOp8gzm-yoZ",
        "outputId": "a1345dc2-1483-46cd-c27a-ec6c331a0ffd",
        "colab": {
          "base_uri": "https://localhost:8080/",
          "height": 430
        }
      },
      "execution_count": null,
      "outputs": [
        {
          "output_type": "display_data",
          "data": {
            "text/plain": [
              "<Figure size 640x480 with 1 Axes>"
            ],
            "image/png": "[encoded data removed]"
          },
          "metadata": {}
        }
      ]
    },
    {
      "cell_type": "code",
      "source": [
        "print(percentile_90(speeds_df_r17.speed))\n",
        "print(percentile_95(speeds_df_r17.speed))\n",
        "# R17 speed limit is 90\n",
        "limit_r17 = 90"
      ],
      "metadata": {
        "id": "gWaErFGbA4hz",
        "outputId": "29ba6744-a334-43a9-b4c4-a2c38478a66b",
        "colab": {
          "base_uri": "https://localhost:8080/"
        }
      },
      "execution_count": null,
      "outputs": [
        {
          "output_type": "stream",
          "name": "stdout",
          "text": [
            "90.3\n",
            "91.205\n"
          ]
        }
      ]
    },
    {
      "cell_type": "code",
      "source": [
        "sum = limit_r17 + limit_r80 + limit_r87 + limit_r77 + limit_r90 + limit_r48"
      ],
      "metadata": {
        "id": "UPPYsaEjDMzN"
      },
      "execution_count": null,
      "outputs": []
    },
    {
      "cell_type": "code",
      "source": [
        "sum"
      ],
      "metadata": {
        "id": "KrFKrfaAD0H0",
        "outputId": "9aba7909-76ea-45ad-ff06-f8e7092d8db1",
        "colab": {
          "base_uri": "https://localhost:8080/"
        }
      },
      "execution_count": null,
      "outputs": [
        {
          "output_type": "execute_result",
          "data": {
            "text/plain": [
              "470"
            ]
          },
          "metadata": {},
          "execution_count": 86
        }
      ]
    }
  ]
}